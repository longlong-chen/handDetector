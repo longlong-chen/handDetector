{
 "cells": [
  {
   "cell_type": "code",
   "execution_count": 9,
   "metadata": {},
   "outputs": [],
   "source": [
    "import cv2\n",
    "import mediapipe as mp"
   ]
  },
  {
   "cell_type": "code",
   "execution_count": 10,
   "metadata": {},
   "outputs": [],
   "source": [
    "mp_drawing = mp.solutions.drawing_utils\n",
    "mp_hands = mp.solutions.hands"
   ]
  },
  {
   "cell_type": "code",
   "execution_count": 11,
   "metadata": {},
   "outputs": [],
   "source": [
    "cap = cv2.VideoCapture(0)"
   ]
  },
  {
   "cell_type": "code",
   "execution_count": 12,
   "metadata": {},
   "outputs": [],
   "source": [
    "if not cap.isOpened():\n",
    "    print(\"Unable to open camera\")\n",
    "    exit()"
   ]
  },
  {
   "cell_type": "code",
   "execution_count": 13,
   "metadata": {},
   "outputs": [],
   "source": [
    "with mp_hands.Hands(static_image_mode=False, max_num_hands=2, min_detection_confidence=0.5) as hands:\n",
    "    while True:\n",
    "        ret, frame = cap.read()\n",
    "        if not ret:\n",
    "            print(\"Error reading frame from camera\")\n",
    "            break\n",
    "        # Convert the frame to RGB for Mediapipe\n",
    "        frame_rgb = cv2.cvtColor(frame, cv2.COLOR_BGR2RGB)\n",
    "        # Process the frame with Mediapipe\n",
    "        results = hands.process(frame_rgb)\n",
    "        # Draw hand landmarks on the frame\n",
    "        if results.multi_hand_landmarks:\n",
    "            for hand_landmarks in results.multi_hand_landmarks:\n",
    "                mp_drawing.draw_landmarks(frame, hand_landmarks, mp_hands.HAND_CONNECTIONS,\n",
    "                                          mp_drawing.DrawingSpec(color=(0, 255, 0), thickness=2, circle_radius=4),\n",
    "                                          mp_drawing.DrawingSpec(color=(255, 0, 0), thickness=2, circle_radius=2))\n",
    "        h, w, _ = frame.shape # h = frame height, w = frame width\n",
    "        x, y = int(hand_landmarks.landmark[12].x * w), int(hand_landmarks.landmark[12].y * h)\n",
    "        x1, y1 = int(hand_landmarks.landmark[9].x * w), int(hand_landmarks.landmark[9].y * h)\n",
    "        if y < y1:\n",
    "            hands_status = \"Open\"\n",
    "            cv2.rectangle(frame, (0, 0), (200, 60), (255, 0, 0), -1)\n",
    "            cv2.putText(frame, \"Open Hand\", (0, 35), cv2.FONT_HERSHEY_SIMPLEX, 1, (255, 255, 255), 3)\n",
    "        else:\n",
    "            hand_status = \"Closed\"\n",
    "            cv2.rectangle(frame, (0, 0), (200, 60), (255, 0, 0), -1)\n",
    "            cv2.putText(frame, \"Closed Hand\", (0, 35), cv2.FONT_HERSHEY_SIMPLEX, 1, (255, 255, 255), 3)\n",
    "        # Display the frame\n",
    "        cv2.imshow(\"Hand Detection\", frame)\n",
    "        # Check for the 'q' key to exit\n",
    "        if cv2.waitKey(1) == ord(\"q\"):\n",
    "            break\n",
    "\n",
    "# Release the video capture and close all windows\n",
    "cap.release()\n",
    "cv2.destroyAllWindows()\n"
   ]
  },
  {
   "cell_type": "code",
   "execution_count": 14,
   "metadata": {},
   "outputs": [
    {
     "ename": "",
     "evalue": "",
     "output_type": "error",
     "traceback": [
      "\u001b[1;31mThe Kernel crashed while executing code in the the current cell or a previous cell. Please review the code in the cell(s) to identify a possible cause of the failure. Click <a href='https://aka.ms/vscodeJupyterKernelCrash'>here</a> for more info. View Jupyter <a href='command:jupyter.viewOutput'>log</a> for further details."
     ]
    }
   ],
   "source": [
    "# h, w, _ = frame.shape # h = frame height, w = frame width\n",
    "# x, y = int(hand_landmarks.landmark[12].x * w), int(hand_landmarks.landmark[12].y * h)\n",
    "# x1, y1 = int(hand_landmarks.landmark[9].x * w), int(hand_landmarks.landmark[9].y * h)\n",
    "# if y < y1:\n",
    "#     hands_status = \"Open\"\n",
    "#     cv2.rectangle(frame, (0, 0), (200, 60), (255, 0, 0), -1)\n",
    "#     cv2.putText(frame, \"Open Hand\", (0, 35), cv2.FONT_HERSHEY_SIMPLEX, 1, (255, 255, 255), 3)\n",
    "# else:\n",
    "#     hand_status = \"Closed\"\n",
    "#     cv2.rectangle(frame, (0, 0), (200, 60), (255, 0, 0), -1)\n",
    "#     cv2.putText(frame, \"Closed Hand\", (0, 35), cv2.FONT_HERSHEY_SIMPLEX, 1, (255, 255, 255), 3)"
   ]
  }
 ],
 "metadata": {
  "kernelspec": {
   "display_name": "Python 3",
   "language": "python",
   "name": "python3"
  },
  "language_info": {
   "codemirror_mode": {
    "name": "ipython",
    "version": 3
   },
   "file_extension": ".py",
   "mimetype": "text/x-python",
   "name": "python",
   "nbconvert_exporter": "python",
   "pygments_lexer": "ipython3",
   "version": "3.8.16"
  },
  "orig_nbformat": 4
 },
 "nbformat": 4,
 "nbformat_minor": 2
}
